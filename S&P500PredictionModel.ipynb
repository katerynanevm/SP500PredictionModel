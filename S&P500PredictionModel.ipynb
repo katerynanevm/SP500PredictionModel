{
 "cells": [
  {
   "cell_type": "code",
   "execution_count": 24,
   "id": "3473c2e1-7f1e-42be-9b25-ae9bf64f1d00",
   "metadata": {
    "scrolled": true
   },
   "outputs": [
    {
     "name": "stdout",
     "output_type": "stream",
     "text": [
      "Requirement already satisfied: yfinance in c:\\users\\katerynanevmerzhytsk\\anaconda3\\lib\\site-packages (0.2.40)\n",
      "Requirement already satisfied: pandas>=1.3.0 in c:\\users\\katerynanevmerzhytsk\\anaconda3\\lib\\site-packages (from yfinance) (2.1.4)\n",
      "Requirement already satisfied: numpy>=1.16.5 in c:\\users\\katerynanevmerzhytsk\\anaconda3\\lib\\site-packages (from yfinance) (1.26.4)\n",
      "Requirement already satisfied: requests>=2.31 in c:\\users\\katerynanevmerzhytsk\\anaconda3\\lib\\site-packages (from yfinance) (2.31.0)\n",
      "Requirement already satisfied: multitasking>=0.0.7 in c:\\users\\katerynanevmerzhytsk\\anaconda3\\lib\\site-packages (from yfinance) (0.0.11)\n",
      "Requirement already satisfied: lxml>=4.9.1 in c:\\users\\katerynanevmerzhytsk\\anaconda3\\lib\\site-packages (from yfinance) (4.9.3)\n",
      "Requirement already satisfied: platformdirs>=2.0.0 in c:\\users\\katerynanevmerzhytsk\\anaconda3\\lib\\site-packages (from yfinance) (3.10.0)\n",
      "Requirement already satisfied: pytz>=2022.5 in c:\\users\\katerynanevmerzhytsk\\anaconda3\\lib\\site-packages (from yfinance) (2023.3.post1)\n",
      "Requirement already satisfied: frozendict>=2.3.4 in c:\\users\\katerynanevmerzhytsk\\anaconda3\\lib\\site-packages (from yfinance) (2.4.4)\n",
      "Requirement already satisfied: peewee>=3.16.2 in c:\\users\\katerynanevmerzhytsk\\anaconda3\\lib\\site-packages (from yfinance) (3.17.5)\n",
      "Requirement already satisfied: beautifulsoup4>=4.11.1 in c:\\users\\katerynanevmerzhytsk\\anaconda3\\lib\\site-packages (from yfinance) (4.12.2)\n",
      "Requirement already satisfied: html5lib>=1.1 in c:\\users\\katerynanevmerzhytsk\\anaconda3\\lib\\site-packages (from yfinance) (1.1)\n",
      "Requirement already satisfied: soupsieve>1.2 in c:\\users\\katerynanevmerzhytsk\\anaconda3\\lib\\site-packages (from beautifulsoup4>=4.11.1->yfinance) (2.5)\n",
      "Requirement already satisfied: six>=1.9 in c:\\users\\katerynanevmerzhytsk\\anaconda3\\lib\\site-packages (from html5lib>=1.1->yfinance) (1.16.0)\n",
      "Requirement already satisfied: webencodings in c:\\users\\katerynanevmerzhytsk\\anaconda3\\lib\\site-packages (from html5lib>=1.1->yfinance) (0.5.1)\n",
      "Requirement already satisfied: python-dateutil>=2.8.2 in c:\\users\\katerynanevmerzhytsk\\anaconda3\\lib\\site-packages (from pandas>=1.3.0->yfinance) (2.8.2)\n",
      "Requirement already satisfied: tzdata>=2022.1 in c:\\users\\katerynanevmerzhytsk\\anaconda3\\lib\\site-packages (from pandas>=1.3.0->yfinance) (2023.3)\n",
      "Requirement already satisfied: charset-normalizer<4,>=2 in c:\\users\\katerynanevmerzhytsk\\anaconda3\\lib\\site-packages (from requests>=2.31->yfinance) (2.0.4)\n",
      "Requirement already satisfied: idna<4,>=2.5 in c:\\users\\katerynanevmerzhytsk\\anaconda3\\lib\\site-packages (from requests>=2.31->yfinance) (3.4)\n",
      "Requirement already satisfied: urllib3<3,>=1.21.1 in c:\\users\\katerynanevmerzhytsk\\anaconda3\\lib\\site-packages (from requests>=2.31->yfinance) (2.0.7)\n",
      "Requirement already satisfied: certifi>=2017.4.17 in c:\\users\\katerynanevmerzhytsk\\anaconda3\\lib\\site-packages (from requests>=2.31->yfinance) (2024.2.2)\n"
     ]
    }
   ],
   "source": [
    "!pip install yfinance\n",
    "import yfinance as yf"
   ]
  },
  {
   "cell_type": "code",
   "execution_count": 25,
   "id": "0473522f-5bfb-4116-8268-bf30854a7233",
   "metadata": {},
   "outputs": [],
   "source": [
    "sp500 = yf.Ticker(\"^GSPC\")"
   ]
  },
  {
   "cell_type": "code",
   "execution_count": 26,
   "id": "52f52e29-2577-425f-9087-b580e7df5fd5",
   "metadata": {},
   "outputs": [],
   "source": [
    "sp500 = sp500.history(period=\"max\")"
   ]
  },
  {
   "cell_type": "code",
   "execution_count": 27,
   "id": "5d60b51b-4fab-4320-abc2-e48c9bf243bf",
   "metadata": {},
   "outputs": [
    {
     "data": {
      "text/html": [
       "<div>\n",
       "<style scoped>\n",
       "    .dataframe tbody tr th:only-of-type {\n",
       "        vertical-align: middle;\n",
       "    }\n",
       "\n",
       "    .dataframe tbody tr th {\n",
       "        vertical-align: top;\n",
       "    }\n",
       "\n",
       "    .dataframe thead th {\n",
       "        text-align: right;\n",
       "    }\n",
       "</style>\n",
       "<table border=\"1\" class=\"dataframe\">\n",
       "  <thead>\n",
       "    <tr style=\"text-align: right;\">\n",
       "      <th></th>\n",
       "      <th>Open</th>\n",
       "      <th>High</th>\n",
       "      <th>Low</th>\n",
       "      <th>Close</th>\n",
       "      <th>Volume</th>\n",
       "      <th>Dividends</th>\n",
       "      <th>Stock Splits</th>\n",
       "    </tr>\n",
       "    <tr>\n",
       "      <th>Date</th>\n",
       "      <th></th>\n",
       "      <th></th>\n",
       "      <th></th>\n",
       "      <th></th>\n",
       "      <th></th>\n",
       "      <th></th>\n",
       "      <th></th>\n",
       "    </tr>\n",
       "  </thead>\n",
       "  <tbody>\n",
       "    <tr>\n",
       "      <th>1927-12-30 00:00:00-05:00</th>\n",
       "      <td>17.660000</td>\n",
       "      <td>17.660000</td>\n",
       "      <td>17.660000</td>\n",
       "      <td>17.660000</td>\n",
       "      <td>0</td>\n",
       "      <td>0.0</td>\n",
       "      <td>0.0</td>\n",
       "    </tr>\n",
       "    <tr>\n",
       "      <th>1928-01-03 00:00:00-05:00</th>\n",
       "      <td>17.760000</td>\n",
       "      <td>17.760000</td>\n",
       "      <td>17.760000</td>\n",
       "      <td>17.760000</td>\n",
       "      <td>0</td>\n",
       "      <td>0.0</td>\n",
       "      <td>0.0</td>\n",
       "    </tr>\n",
       "    <tr>\n",
       "      <th>1928-01-04 00:00:00-05:00</th>\n",
       "      <td>17.719999</td>\n",
       "      <td>17.719999</td>\n",
       "      <td>17.719999</td>\n",
       "      <td>17.719999</td>\n",
       "      <td>0</td>\n",
       "      <td>0.0</td>\n",
       "      <td>0.0</td>\n",
       "    </tr>\n",
       "    <tr>\n",
       "      <th>1928-01-05 00:00:00-05:00</th>\n",
       "      <td>17.549999</td>\n",
       "      <td>17.549999</td>\n",
       "      <td>17.549999</td>\n",
       "      <td>17.549999</td>\n",
       "      <td>0</td>\n",
       "      <td>0.0</td>\n",
       "      <td>0.0</td>\n",
       "    </tr>\n",
       "    <tr>\n",
       "      <th>1928-01-06 00:00:00-05:00</th>\n",
       "      <td>17.660000</td>\n",
       "      <td>17.660000</td>\n",
       "      <td>17.660000</td>\n",
       "      <td>17.660000</td>\n",
       "      <td>0</td>\n",
       "      <td>0.0</td>\n",
       "      <td>0.0</td>\n",
       "    </tr>\n",
       "    <tr>\n",
       "      <th>...</th>\n",
       "      <td>...</td>\n",
       "      <td>...</td>\n",
       "      <td>...</td>\n",
       "      <td>...</td>\n",
       "      <td>...</td>\n",
       "      <td>...</td>\n",
       "      <td>...</td>\n",
       "    </tr>\n",
       "    <tr>\n",
       "      <th>2024-06-03 00:00:00-04:00</th>\n",
       "      <td>5297.149902</td>\n",
       "      <td>5302.109863</td>\n",
       "      <td>5234.319824</td>\n",
       "      <td>5283.399902</td>\n",
       "      <td>4046920000</td>\n",
       "      <td>0.0</td>\n",
       "      <td>0.0</td>\n",
       "    </tr>\n",
       "    <tr>\n",
       "      <th>2024-06-04 00:00:00-04:00</th>\n",
       "      <td>5278.240234</td>\n",
       "      <td>5298.799805</td>\n",
       "      <td>5257.629883</td>\n",
       "      <td>5291.339844</td>\n",
       "      <td>3707900000</td>\n",
       "      <td>0.0</td>\n",
       "      <td>0.0</td>\n",
       "    </tr>\n",
       "    <tr>\n",
       "      <th>2024-06-05 00:00:00-04:00</th>\n",
       "      <td>5314.479980</td>\n",
       "      <td>5354.160156</td>\n",
       "      <td>5297.640137</td>\n",
       "      <td>5354.029785</td>\n",
       "      <td>3591460000</td>\n",
       "      <td>0.0</td>\n",
       "      <td>0.0</td>\n",
       "    </tr>\n",
       "    <tr>\n",
       "      <th>2024-06-06 00:00:00-04:00</th>\n",
       "      <td>5357.799805</td>\n",
       "      <td>5362.350098</td>\n",
       "      <td>5335.359863</td>\n",
       "      <td>5352.959961</td>\n",
       "      <td>3609990000</td>\n",
       "      <td>0.0</td>\n",
       "      <td>0.0</td>\n",
       "    </tr>\n",
       "    <tr>\n",
       "      <th>2024-06-07 00:00:00-04:00</th>\n",
       "      <td>5343.810059</td>\n",
       "      <td>5375.080078</td>\n",
       "      <td>5331.330078</td>\n",
       "      <td>5346.990234</td>\n",
       "      <td>3692760000</td>\n",
       "      <td>0.0</td>\n",
       "      <td>0.0</td>\n",
       "    </tr>\n",
       "  </tbody>\n",
       "</table>\n",
       "<p>24225 rows × 7 columns</p>\n",
       "</div>"
      ],
      "text/plain": [
       "                                  Open         High          Low        Close  \\\n",
       "Date                                                                            \n",
       "1927-12-30 00:00:00-05:00    17.660000    17.660000    17.660000    17.660000   \n",
       "1928-01-03 00:00:00-05:00    17.760000    17.760000    17.760000    17.760000   \n",
       "1928-01-04 00:00:00-05:00    17.719999    17.719999    17.719999    17.719999   \n",
       "1928-01-05 00:00:00-05:00    17.549999    17.549999    17.549999    17.549999   \n",
       "1928-01-06 00:00:00-05:00    17.660000    17.660000    17.660000    17.660000   \n",
       "...                                ...          ...          ...          ...   \n",
       "2024-06-03 00:00:00-04:00  5297.149902  5302.109863  5234.319824  5283.399902   \n",
       "2024-06-04 00:00:00-04:00  5278.240234  5298.799805  5257.629883  5291.339844   \n",
       "2024-06-05 00:00:00-04:00  5314.479980  5354.160156  5297.640137  5354.029785   \n",
       "2024-06-06 00:00:00-04:00  5357.799805  5362.350098  5335.359863  5352.959961   \n",
       "2024-06-07 00:00:00-04:00  5343.810059  5375.080078  5331.330078  5346.990234   \n",
       "\n",
       "                               Volume  Dividends  Stock Splits  \n",
       "Date                                                            \n",
       "1927-12-30 00:00:00-05:00           0        0.0           0.0  \n",
       "1928-01-03 00:00:00-05:00           0        0.0           0.0  \n",
       "1928-01-04 00:00:00-05:00           0        0.0           0.0  \n",
       "1928-01-05 00:00:00-05:00           0        0.0           0.0  \n",
       "1928-01-06 00:00:00-05:00           0        0.0           0.0  \n",
       "...                               ...        ...           ...  \n",
       "2024-06-03 00:00:00-04:00  4046920000        0.0           0.0  \n",
       "2024-06-04 00:00:00-04:00  3707900000        0.0           0.0  \n",
       "2024-06-05 00:00:00-04:00  3591460000        0.0           0.0  \n",
       "2024-06-06 00:00:00-04:00  3609990000        0.0           0.0  \n",
       "2024-06-07 00:00:00-04:00  3692760000        0.0           0.0  \n",
       "\n",
       "[24225 rows x 7 columns]"
      ]
     },
     "execution_count": 27,
     "metadata": {},
     "output_type": "execute_result"
    }
   ],
   "source": [
    "sp500"
   ]
  },
  {
   "cell_type": "code",
   "execution_count": 28,
   "id": "dde0a1ef-ebce-441e-9d61-4f9e0f1a19b7",
   "metadata": {},
   "outputs": [
    {
     "data": {
      "text/plain": [
       "DatetimeIndex(['1927-12-30 00:00:00-05:00', '1928-01-03 00:00:00-05:00',\n",
       "               '1928-01-04 00:00:00-05:00', '1928-01-05 00:00:00-05:00',\n",
       "               '1928-01-06 00:00:00-05:00', '1928-01-09 00:00:00-05:00',\n",
       "               '1928-01-10 00:00:00-05:00', '1928-01-11 00:00:00-05:00',\n",
       "               '1928-01-12 00:00:00-05:00', '1928-01-13 00:00:00-05:00',\n",
       "               ...\n",
       "               '2024-05-24 00:00:00-04:00', '2024-05-28 00:00:00-04:00',\n",
       "               '2024-05-29 00:00:00-04:00', '2024-05-30 00:00:00-04:00',\n",
       "               '2024-05-31 00:00:00-04:00', '2024-06-03 00:00:00-04:00',\n",
       "               '2024-06-04 00:00:00-04:00', '2024-06-05 00:00:00-04:00',\n",
       "               '2024-06-06 00:00:00-04:00', '2024-06-07 00:00:00-04:00'],\n",
       "              dtype='datetime64[ns, America/New_York]', name='Date', length=24225, freq=None)"
      ]
     },
     "execution_count": 28,
     "metadata": {},
     "output_type": "execute_result"
    }
   ],
   "source": [
    "sp500.index"
   ]
  },
  {
   "cell_type": "code",
   "execution_count": 29,
   "id": "02ff6127-4774-414a-8718-251fa0305cb2",
   "metadata": {},
   "outputs": [
    {
     "data": {
      "text/plain": [
       "<Axes: xlabel='Date'>"
      ]
     },
     "execution_count": 29,
     "metadata": {},
     "output_type": "execute_result"
    },
    {
     "data": {
      "image/png": "[encoded data removed]",
      "text/plain": [
       "<Figure size 640x480 with 1 Axes>"
      ]
     },
     "metadata": {},
     "output_type": "display_data"
    }
   ],
   "source": [
    "#Show up the plot of the closing price for the whole period \n",
    "sp500.plot.line(y=\"Close\", use_index=True)"
   ]
  },
  {
   "cell_type": "code",
   "execution_count": 30,
   "id": "ecb8987f-6d3a-43db-b00a-b9b60d951b0f",
   "metadata": {},
   "outputs": [],
   "source": [
    "#Deleating columns we dont need \n",
    "del sp500[\"Dividends\"]\n",
    "del sp500[\"Stock Splits\"]"
   ]
  },
  {
   "cell_type": "code",
   "execution_count": 35,
   "id": "d014b227-0c40-4ba1-8aa5-95b6e64ecb48",
   "metadata": {},
   "outputs": [],
   "source": [
    "#Creates the column Tomorrow, where will be shown tomorrows closed price\n",
    "# Дати ідуть від еайстаршого до найближчого, тому шоь вщяти данні на завтра, \n",
    "#ми ьеремо данні із наступної колонки \n",
    "sp500[\"Tomorrow\"] = sp500[\"Close\"].shift(-1)"
   ]
  },
  {
   "cell_type": "code",
   "execution_count": 32,
   "id": "1521ca97-5947-4d9a-bbe2-a2d29e58d4c4",
   "metadata": {},
   "outputs": [
    {
     "data": {
      "text/html": [
       "<div>\n",
       "<style scoped>\n",
       "    .dataframe tbody tr th:only-of-type {\n",
       "        vertical-align: middle;\n",
       "    }\n",
       "\n",
       "    .dataframe tbody tr th {\n",
       "        vertical-align: top;\n",
       "    }\n",
       "\n",
       "    .dataframe thead th {\n",
       "        text-align: right;\n",
       "    }\n",
       "</style>\n",
       "<table border=\"1\" class=\"dataframe\">\n",
       "  <thead>\n",
       "    <tr style=\"text-align: right;\">\n",
       "      <th></th>\n",
       "      <th>Open</th>\n",
       "      <th>High</th>\n",
       "      <th>Low</th>\n",
       "      <th>Close</th>\n",
       "      <th>Volume</th>\n",
       "      <th>Tomorrow</th>\n",
       "    </tr>\n",
       "    <tr>\n",
       "      <th>Date</th>\n",
       "      <th></th>\n",
       "      <th></th>\n",
       "      <th></th>\n",
       "      <th></th>\n",
       "      <th></th>\n",
       "      <th></th>\n",
       "    </tr>\n",
       "  </thead>\n",
       "  <tbody>\n",
       "    <tr>\n",
       "      <th>1927-12-30 00:00:00-05:00</th>\n",
       "      <td>17.660000</td>\n",
       "      <td>17.660000</td>\n",
       "      <td>17.660000</td>\n",
       "      <td>17.660000</td>\n",
       "      <td>0</td>\n",
       "      <td>17.760000</td>\n",
       "    </tr>\n",
       "    <tr>\n",
       "      <th>1928-01-03 00:00:00-05:00</th>\n",
       "      <td>17.760000</td>\n",
       "      <td>17.760000</td>\n",
       "      <td>17.760000</td>\n",
       "      <td>17.760000</td>\n",
       "      <td>0</td>\n",
       "      <td>17.719999</td>\n",
       "    </tr>\n",
       "    <tr>\n",
       "      <th>1928-01-04 00:00:00-05:00</th>\n",
       "      <td>17.719999</td>\n",
       "      <td>17.719999</td>\n",
       "      <td>17.719999</td>\n",
       "      <td>17.719999</td>\n",
       "      <td>0</td>\n",
       "      <td>17.549999</td>\n",
       "    </tr>\n",
       "    <tr>\n",
       "      <th>1928-01-05 00:00:00-05:00</th>\n",
       "      <td>17.549999</td>\n",
       "      <td>17.549999</td>\n",
       "      <td>17.549999</td>\n",
       "      <td>17.549999</td>\n",
       "      <td>0</td>\n",
       "      <td>17.660000</td>\n",
       "    </tr>\n",
       "    <tr>\n",
       "      <th>1928-01-06 00:00:00-05:00</th>\n",
       "      <td>17.660000</td>\n",
       "      <td>17.660000</td>\n",
       "      <td>17.660000</td>\n",
       "      <td>17.660000</td>\n",
       "      <td>0</td>\n",
       "      <td>17.500000</td>\n",
       "    </tr>\n",
       "    <tr>\n",
       "      <th>...</th>\n",
       "      <td>...</td>\n",
       "      <td>...</td>\n",
       "      <td>...</td>\n",
       "      <td>...</td>\n",
       "      <td>...</td>\n",
       "      <td>...</td>\n",
       "    </tr>\n",
       "    <tr>\n",
       "      <th>2024-06-03 00:00:00-04:00</th>\n",
       "      <td>5297.149902</td>\n",
       "      <td>5302.109863</td>\n",
       "      <td>5234.319824</td>\n",
       "      <td>5283.399902</td>\n",
       "      <td>4046920000</td>\n",
       "      <td>5291.339844</td>\n",
       "    </tr>\n",
       "    <tr>\n",
       "      <th>2024-06-04 00:00:00-04:00</th>\n",
       "      <td>5278.240234</td>\n",
       "      <td>5298.799805</td>\n",
       "      <td>5257.629883</td>\n",
       "      <td>5291.339844</td>\n",
       "      <td>3707900000</td>\n",
       "      <td>5354.029785</td>\n",
       "    </tr>\n",
       "    <tr>\n",
       "      <th>2024-06-05 00:00:00-04:00</th>\n",
       "      <td>5314.479980</td>\n",
       "      <td>5354.160156</td>\n",
       "      <td>5297.640137</td>\n",
       "      <td>5354.029785</td>\n",
       "      <td>3591460000</td>\n",
       "      <td>5352.959961</td>\n",
       "    </tr>\n",
       "    <tr>\n",
       "      <th>2024-06-06 00:00:00-04:00</th>\n",
       "      <td>5357.799805</td>\n",
       "      <td>5362.350098</td>\n",
       "      <td>5335.359863</td>\n",
       "      <td>5352.959961</td>\n",
       "      <td>3609990000</td>\n",
       "      <td>5346.990234</td>\n",
       "    </tr>\n",
       "    <tr>\n",
       "      <th>2024-06-07 00:00:00-04:00</th>\n",
       "      <td>5343.810059</td>\n",
       "      <td>5375.080078</td>\n",
       "      <td>5331.330078</td>\n",
       "      <td>5346.990234</td>\n",
       "      <td>3692760000</td>\n",
       "      <td>NaN</td>\n",
       "    </tr>\n",
       "  </tbody>\n",
       "</table>\n",
       "<p>24225 rows × 6 columns</p>\n",
       "</div>"
      ],
      "text/plain": [
       "                                  Open         High          Low        Close  \\\n",
       "Date                                                                            \n",
       "1927-12-30 00:00:00-05:00    17.660000    17.660000    17.660000    17.660000   \n",
       "1928-01-03 00:00:00-05:00    17.760000    17.760000    17.760000    17.760000   \n",
       "1928-01-04 00:00:00-05:00    17.719999    17.719999    17.719999    17.719999   \n",
       "1928-01-05 00:00:00-05:00    17.549999    17.549999    17.549999    17.549999   \n",
       "1928-01-06 00:00:00-05:00    17.660000    17.660000    17.660000    17.660000   \n",
       "...                                ...          ...          ...          ...   \n",
       "2024-06-03 00:00:00-04:00  5297.149902  5302.109863  5234.319824  5283.399902   \n",
       "2024-06-04 00:00:00-04:00  5278.240234  5298.799805  5257.629883  5291.339844   \n",
       "2024-06-05 00:00:00-04:00  5314.479980  5354.160156  5297.640137  5354.029785   \n",
       "2024-06-06 00:00:00-04:00  5357.799805  5362.350098  5335.359863  5352.959961   \n",
       "2024-06-07 00:00:00-04:00  5343.810059  5375.080078  5331.330078  5346.990234   \n",
       "\n",
       "                               Volume     Tomorrow  \n",
       "Date                                                \n",
       "1927-12-30 00:00:00-05:00           0    17.760000  \n",
       "1928-01-03 00:00:00-05:00           0    17.719999  \n",
       "1928-01-04 00:00:00-05:00           0    17.549999  \n",
       "1928-01-05 00:00:00-05:00           0    17.660000  \n",
       "1928-01-06 00:00:00-05:00           0    17.500000  \n",
       "...                               ...          ...  \n",
       "2024-06-03 00:00:00-04:00  4046920000  5291.339844  \n",
       "2024-06-04 00:00:00-04:00  3707900000  5354.029785  \n",
       "2024-06-05 00:00:00-04:00  3591460000  5352.959961  \n",
       "2024-06-06 00:00:00-04:00  3609990000  5346.990234  \n",
       "2024-06-07 00:00:00-04:00  3692760000          NaN  \n",
       "\n",
       "[24225 rows x 6 columns]"
      ]
     },
     "execution_count": 32,
     "metadata": {},
     "output_type": "execute_result"
    }
   ],
   "source": [
    "sp500"
   ]
  },
  {
   "cell_type": "code",
   "execution_count": 33,
   "id": "bfeab6db-d41f-4688-bd11-cd57bf839ac2",
   "metadata": {},
   "outputs": [],
   "source": [
    "#Craetes column called Target, where will be shown \n",
    "#whether the tomorrows price is higher than todays price\n",
    "#if yes, than it will be shown as an intiger 1\n",
    "sp500[\"Target\"] = (sp500[\"Tomorrow\"] > sp500[\"Close\"]).astype(int)"
   ]
  },
  {
   "cell_type": "code",
   "execution_count": 34,
   "id": "eaa07f86-315a-487e-a779-2d1c6432ff24",
   "metadata": {},
   "outputs": [
    {
     "data": {
      "text/html": [
       "<div>\n",
       "<style scoped>\n",
       "    .dataframe tbody tr th:only-of-type {\n",
       "        vertical-align: middle;\n",
       "    }\n",
       "\n",
       "    .dataframe tbody tr th {\n",
       "        vertical-align: top;\n",
       "    }\n",
       "\n",
       "    .dataframe thead th {\n",
       "        text-align: right;\n",
       "    }\n",
       "</style>\n",
       "<table border=\"1\" class=\"dataframe\">\n",
       "  <thead>\n",
       "    <tr style=\"text-align: right;\">\n",
       "      <th></th>\n",
       "      <th>Open</th>\n",
       "      <th>High</th>\n",
       "      <th>Low</th>\n",
       "      <th>Close</th>\n",
       "      <th>Volume</th>\n",
       "      <th>Tomorrow</th>\n",
       "      <th>Target</th>\n",
       "    </tr>\n",
       "    <tr>\n",
       "      <th>Date</th>\n",
       "      <th></th>\n",
       "      <th></th>\n",
       "      <th></th>\n",
       "      <th></th>\n",
       "      <th></th>\n",
       "      <th></th>\n",
       "      <th></th>\n",
       "    </tr>\n",
       "  </thead>\n",
       "  <tbody>\n",
       "    <tr>\n",
       "      <th>1927-12-30 00:00:00-05:00</th>\n",
       "      <td>17.660000</td>\n",
       "      <td>17.660000</td>\n",
       "      <td>17.660000</td>\n",
       "      <td>17.660000</td>\n",
       "      <td>0</td>\n",
       "      <td>17.760000</td>\n",
       "      <td>1</td>\n",
       "    </tr>\n",
       "    <tr>\n",
       "      <th>1928-01-03 00:00:00-05:00</th>\n",
       "      <td>17.760000</td>\n",
       "      <td>17.760000</td>\n",
       "      <td>17.760000</td>\n",
       "      <td>17.760000</td>\n",
       "      <td>0</td>\n",
       "      <td>17.719999</td>\n",
       "      <td>0</td>\n",
       "    </tr>\n",
       "    <tr>\n",
       "      <th>1928-01-04 00:00:00-05:00</th>\n",
       "      <td>17.719999</td>\n",
       "      <td>17.719999</td>\n",
       "      <td>17.719999</td>\n",
       "      <td>17.719999</td>\n",
       "      <td>0</td>\n",
       "      <td>17.549999</td>\n",
       "      <td>0</td>\n",
       "    </tr>\n",
       "    <tr>\n",
       "      <th>1928-01-05 00:00:00-05:00</th>\n",
       "      <td>17.549999</td>\n",
       "      <td>17.549999</td>\n",
       "      <td>17.549999</td>\n",
       "      <td>17.549999</td>\n",
       "      <td>0</td>\n",
       "      <td>17.660000</td>\n",
       "      <td>1</td>\n",
       "    </tr>\n",
       "    <tr>\n",
       "      <th>1928-01-06 00:00:00-05:00</th>\n",
       "      <td>17.660000</td>\n",
       "      <td>17.660000</td>\n",
       "      <td>17.660000</td>\n",
       "      <td>17.660000</td>\n",
       "      <td>0</td>\n",
       "      <td>17.500000</td>\n",
       "      <td>0</td>\n",
       "    </tr>\n",
       "    <tr>\n",
       "      <th>...</th>\n",
       "      <td>...</td>\n",
       "      <td>...</td>\n",
       "      <td>...</td>\n",
       "      <td>...</td>\n",
       "      <td>...</td>\n",
       "      <td>...</td>\n",
       "      <td>...</td>\n",
       "    </tr>\n",
       "    <tr>\n",
       "      <th>2024-06-03 00:00:00-04:00</th>\n",
       "      <td>5297.149902</td>\n",
       "      <td>5302.109863</td>\n",
       "      <td>5234.319824</td>\n",
       "      <td>5283.399902</td>\n",
       "      <td>4046920000</td>\n",
       "      <td>5291.339844</td>\n",
       "      <td>1</td>\n",
       "    </tr>\n",
       "    <tr>\n",
       "      <th>2024-06-04 00:00:00-04:00</th>\n",
       "      <td>5278.240234</td>\n",
       "      <td>5298.799805</td>\n",
       "      <td>5257.629883</td>\n",
       "      <td>5291.339844</td>\n",
       "      <td>3707900000</td>\n",
       "      <td>5354.029785</td>\n",
       "      <td>1</td>\n",
       "    </tr>\n",
       "    <tr>\n",
       "      <th>2024-06-05 00:00:00-04:00</th>\n",
       "      <td>5314.479980</td>\n",
       "      <td>5354.160156</td>\n",
       "      <td>5297.640137</td>\n",
       "      <td>5354.029785</td>\n",
       "      <td>3591460000</td>\n",
       "      <td>5352.959961</td>\n",
       "      <td>0</td>\n",
       "    </tr>\n",
       "    <tr>\n",
       "      <th>2024-06-06 00:00:00-04:00</th>\n",
       "      <td>5357.799805</td>\n",
       "      <td>5362.350098</td>\n",
       "      <td>5335.359863</td>\n",
       "      <td>5352.959961</td>\n",
       "      <td>3609990000</td>\n",
       "      <td>5346.990234</td>\n",
       "      <td>0</td>\n",
       "    </tr>\n",
       "    <tr>\n",
       "      <th>2024-06-07 00:00:00-04:00</th>\n",
       "      <td>5343.810059</td>\n",
       "      <td>5375.080078</td>\n",
       "      <td>5331.330078</td>\n",
       "      <td>5346.990234</td>\n",
       "      <td>3692760000</td>\n",
       "      <td>NaN</td>\n",
       "      <td>0</td>\n",
       "    </tr>\n",
       "  </tbody>\n",
       "</table>\n",
       "<p>24225 rows × 7 columns</p>\n",
       "</div>"
      ],
      "text/plain": [
       "                                  Open         High          Low        Close  \\\n",
       "Date                                                                            \n",
       "1927-12-30 00:00:00-05:00    17.660000    17.660000    17.660000    17.660000   \n",
       "1928-01-03 00:00:00-05:00    17.760000    17.760000    17.760000    17.760000   \n",
       "1928-01-04 00:00:00-05:00    17.719999    17.719999    17.719999    17.719999   \n",
       "1928-01-05 00:00:00-05:00    17.549999    17.549999    17.549999    17.549999   \n",
       "1928-01-06 00:00:00-05:00    17.660000    17.660000    17.660000    17.660000   \n",
       "...                                ...          ...          ...          ...   \n",
       "2024-06-03 00:00:00-04:00  5297.149902  5302.109863  5234.319824  5283.399902   \n",
       "2024-06-04 00:00:00-04:00  5278.240234  5298.799805  5257.629883  5291.339844   \n",
       "2024-06-05 00:00:00-04:00  5314.479980  5354.160156  5297.640137  5354.029785   \n",
       "2024-06-06 00:00:00-04:00  5357.799805  5362.350098  5335.359863  5352.959961   \n",
       "2024-06-07 00:00:00-04:00  5343.810059  5375.080078  5331.330078  5346.990234   \n",
       "\n",
       "                               Volume     Tomorrow  Target  \n",
       "Date                                                        \n",
       "1927-12-30 00:00:00-05:00           0    17.760000       1  \n",
       "1928-01-03 00:00:00-05:00           0    17.719999       0  \n",
       "1928-01-04 00:00:00-05:00           0    17.549999       0  \n",
       "1928-01-05 00:00:00-05:00           0    17.660000       1  \n",
       "1928-01-06 00:00:00-05:00           0    17.500000       0  \n",
       "...                               ...          ...     ...  \n",
       "2024-06-03 00:00:00-04:00  4046920000  5291.339844       1  \n",
       "2024-06-04 00:00:00-04:00  3707900000  5354.029785       1  \n",
       "2024-06-05 00:00:00-04:00  3591460000  5352.959961       0  \n",
       "2024-06-06 00:00:00-04:00  3609990000  5346.990234       0  \n",
       "2024-06-07 00:00:00-04:00  3692760000          NaN       0  \n",
       "\n",
       "[24225 rows x 7 columns]"
      ]
     },
     "execution_count": 34,
     "metadata": {},
     "output_type": "execute_result"
    }
   ],
   "source": [
    "sp500"
   ]
  },
  {
   "cell_type": "code",
   "execution_count": 36,
   "id": "f9cc50da-fbd6-4a3c-be2e-0216b7239012",
   "metadata": {},
   "outputs": [],
   "source": [
    "#.loc[] is a label-based indexer for selecting rows and columns by label(s) or a boolean array.\n",
    "#The colon (:) indicates that you want to include all columns.\n",
    "#The .copy() method creates a copy of the filtered DataFrame.\n",
    "sp500 = sp500.loc[\"1990-01-01\":].copy()"
   ]
  },
  {
   "cell_type": "code",
   "execution_count": 37,
   "id": "99773966-bfc4-4a07-ac09-29b0bd2b3a77",
   "metadata": {},
   "outputs": [
    {
     "data": {
      "text/html": [
       "<div>\n",
       "<style scoped>\n",
       "    .dataframe tbody tr th:only-of-type {\n",
       "        vertical-align: middle;\n",
       "    }\n",
       "\n",
       "    .dataframe tbody tr th {\n",
       "        vertical-align: top;\n",
       "    }\n",
       "\n",
       "    .dataframe thead th {\n",
       "        text-align: right;\n",
       "    }\n",
       "</style>\n",
       "<table border=\"1\" class=\"dataframe\">\n",
       "  <thead>\n",
       "    <tr style=\"text-align: right;\">\n",
       "      <th></th>\n",
       "      <th>Open</th>\n",
       "      <th>High</th>\n",
       "      <th>Low</th>\n",
       "      <th>Close</th>\n",
       "      <th>Volume</th>\n",
       "      <th>Tomorrow</th>\n",
       "      <th>Target</th>\n",
       "    </tr>\n",
       "    <tr>\n",
       "      <th>Date</th>\n",
       "      <th></th>\n",
       "      <th></th>\n",
       "      <th></th>\n",
       "      <th></th>\n",
       "      <th></th>\n",
       "      <th></th>\n",
       "      <th></th>\n",
       "    </tr>\n",
       "  </thead>\n",
       "  <tbody>\n",
       "    <tr>\n",
       "      <th>1990-01-02 00:00:00-05:00</th>\n",
       "      <td>353.399994</td>\n",
       "      <td>359.690002</td>\n",
       "      <td>351.980011</td>\n",
       "      <td>359.690002</td>\n",
       "      <td>162070000</td>\n",
       "      <td>358.760010</td>\n",
       "      <td>0</td>\n",
       "    </tr>\n",
       "    <tr>\n",
       "      <th>1990-01-03 00:00:00-05:00</th>\n",
       "      <td>359.690002</td>\n",
       "      <td>360.589996</td>\n",
       "      <td>357.890015</td>\n",
       "      <td>358.760010</td>\n",
       "      <td>192330000</td>\n",
       "      <td>355.670013</td>\n",
       "      <td>0</td>\n",
       "    </tr>\n",
       "    <tr>\n",
       "      <th>1990-01-04 00:00:00-05:00</th>\n",
       "      <td>358.760010</td>\n",
       "      <td>358.760010</td>\n",
       "      <td>352.890015</td>\n",
       "      <td>355.670013</td>\n",
       "      <td>177000000</td>\n",
       "      <td>352.200012</td>\n",
       "      <td>0</td>\n",
       "    </tr>\n",
       "    <tr>\n",
       "      <th>1990-01-05 00:00:00-05:00</th>\n",
       "      <td>355.670013</td>\n",
       "      <td>355.670013</td>\n",
       "      <td>351.350006</td>\n",
       "      <td>352.200012</td>\n",
       "      <td>158530000</td>\n",
       "      <td>353.790009</td>\n",
       "      <td>1</td>\n",
       "    </tr>\n",
       "    <tr>\n",
       "      <th>1990-01-08 00:00:00-05:00</th>\n",
       "      <td>352.200012</td>\n",
       "      <td>354.239990</td>\n",
       "      <td>350.540009</td>\n",
       "      <td>353.790009</td>\n",
       "      <td>140110000</td>\n",
       "      <td>349.619995</td>\n",
       "      <td>0</td>\n",
       "    </tr>\n",
       "    <tr>\n",
       "      <th>...</th>\n",
       "      <td>...</td>\n",
       "      <td>...</td>\n",
       "      <td>...</td>\n",
       "      <td>...</td>\n",
       "      <td>...</td>\n",
       "      <td>...</td>\n",
       "      <td>...</td>\n",
       "    </tr>\n",
       "    <tr>\n",
       "      <th>2024-06-03 00:00:00-04:00</th>\n",
       "      <td>5297.149902</td>\n",
       "      <td>5302.109863</td>\n",
       "      <td>5234.319824</td>\n",
       "      <td>5283.399902</td>\n",
       "      <td>4046920000</td>\n",
       "      <td>5291.339844</td>\n",
       "      <td>1</td>\n",
       "    </tr>\n",
       "    <tr>\n",
       "      <th>2024-06-04 00:00:00-04:00</th>\n",
       "      <td>5278.240234</td>\n",
       "      <td>5298.799805</td>\n",
       "      <td>5257.629883</td>\n",
       "      <td>5291.339844</td>\n",
       "      <td>3707900000</td>\n",
       "      <td>5354.029785</td>\n",
       "      <td>1</td>\n",
       "    </tr>\n",
       "    <tr>\n",
       "      <th>2024-06-05 00:00:00-04:00</th>\n",
       "      <td>5314.479980</td>\n",
       "      <td>5354.160156</td>\n",
       "      <td>5297.640137</td>\n",
       "      <td>5354.029785</td>\n",
       "      <td>3591460000</td>\n",
       "      <td>5352.959961</td>\n",
       "      <td>0</td>\n",
       "    </tr>\n",
       "    <tr>\n",
       "      <th>2024-06-06 00:00:00-04:00</th>\n",
       "      <td>5357.799805</td>\n",
       "      <td>5362.350098</td>\n",
       "      <td>5335.359863</td>\n",
       "      <td>5352.959961</td>\n",
       "      <td>3609990000</td>\n",
       "      <td>5346.990234</td>\n",
       "      <td>0</td>\n",
       "    </tr>\n",
       "    <tr>\n",
       "      <th>2024-06-07 00:00:00-04:00</th>\n",
       "      <td>5343.810059</td>\n",
       "      <td>5375.080078</td>\n",
       "      <td>5331.330078</td>\n",
       "      <td>5346.990234</td>\n",
       "      <td>3692760000</td>\n",
       "      <td>NaN</td>\n",
       "      <td>0</td>\n",
       "    </tr>\n",
       "  </tbody>\n",
       "</table>\n",
       "<p>8675 rows × 7 columns</p>\n",
       "</div>"
      ],
      "text/plain": [
       "                                  Open         High          Low        Close  \\\n",
       "Date                                                                            \n",
       "1990-01-02 00:00:00-05:00   353.399994   359.690002   351.980011   359.690002   \n",
       "1990-01-03 00:00:00-05:00   359.690002   360.589996   357.890015   358.760010   \n",
       "1990-01-04 00:00:00-05:00   358.760010   358.760010   352.890015   355.670013   \n",
       "1990-01-05 00:00:00-05:00   355.670013   355.670013   351.350006   352.200012   \n",
       "1990-01-08 00:00:00-05:00   352.200012   354.239990   350.540009   353.790009   \n",
       "...                                ...          ...          ...          ...   \n",
       "2024-06-03 00:00:00-04:00  5297.149902  5302.109863  5234.319824  5283.399902   \n",
       "2024-06-04 00:00:00-04:00  5278.240234  5298.799805  5257.629883  5291.339844   \n",
       "2024-06-05 00:00:00-04:00  5314.479980  5354.160156  5297.640137  5354.029785   \n",
       "2024-06-06 00:00:00-04:00  5357.799805  5362.350098  5335.359863  5352.959961   \n",
       "2024-06-07 00:00:00-04:00  5343.810059  5375.080078  5331.330078  5346.990234   \n",
       "\n",
       "                               Volume     Tomorrow  Target  \n",
       "Date                                                        \n",
       "1990-01-02 00:00:00-05:00   162070000   358.760010       0  \n",
       "1990-01-03 00:00:00-05:00   192330000   355.670013       0  \n",
       "1990-01-04 00:00:00-05:00   177000000   352.200012       0  \n",
       "1990-01-05 00:00:00-05:00   158530000   353.790009       1  \n",
       "1990-01-08 00:00:00-05:00   140110000   349.619995       0  \n",
       "...                               ...          ...     ...  \n",
       "2024-06-03 00:00:00-04:00  4046920000  5291.339844       1  \n",
       "2024-06-04 00:00:00-04:00  3707900000  5354.029785       1  \n",
       "2024-06-05 00:00:00-04:00  3591460000  5352.959961       0  \n",
       "2024-06-06 00:00:00-04:00  3609990000  5346.990234       0  \n",
       "2024-06-07 00:00:00-04:00  3692760000          NaN       0  \n",
       "\n",
       "[8675 rows x 7 columns]"
      ]
     },
     "execution_count": 37,
     "metadata": {},
     "output_type": "execute_result"
    }
   ],
   "source": [
    "sp500"
   ]
  },
  {
   "cell_type": "code",
   "execution_count": 40,
   "id": "1e6bb07c-9db0-4eb2-962c-f19be8e735b6",
   "metadata": {},
   "outputs": [
    {
     "data": {
      "text/html": [
       "<style>#sk-container-id-1 {color: black;background-color: white;}#sk-container-id-1 pre{padding: 0;}#sk-container-id-1 div.sk-toggleable {background-color: white;}#sk-container-id-1 label.sk-toggleable__label {cursor: pointer;display: block;width: 100%;margin-bottom: 0;padding: 0.3em;box-sizing: border-box;text-align: center;}#sk-container-id-1 label.sk-toggleable__label-arrow:before {content: \"▸\";float: left;margin-right: 0.25em;color: #696969;}#sk-container-id-1 label.sk-toggleable__label-arrow:hover:before {color: black;}#sk-container-id-1 div.sk-estimator:hover label.sk-toggleable__label-arrow:before {color: black;}#sk-container-id-1 div.sk-toggleable__content {max-height: 0;max-width: 0;overflow: hidden;text-align: left;background-color: #f0f8ff;}#sk-container-id-1 div.sk-toggleable__content pre {margin: 0.2em;color: black;border-radius: 0.25em;background-color: #f0f8ff;}#sk-container-id-1 input.sk-toggleable__control:checked~div.sk-toggleable__content {max-height: 200px;max-width: 100%;overflow: auto;}#sk-container-id-1 input.sk-toggleable__control:checked~label.sk-toggleable__label-arrow:before {content: \"▾\";}#sk-container-id-1 div.sk-estimator input.sk-toggleable__control:checked~label.sk-toggleable__label {background-color: #d4ebff;}#sk-container-id-1 div.sk-label input.sk-toggleable__control:checked~label.sk-toggleable__label {background-color: #d4ebff;}#sk-container-id-1 input.sk-hidden--visually {border: 0;clip: rect(1px 1px 1px 1px);clip: rect(1px, 1px, 1px, 1px);height: 1px;margin: -1px;overflow: hidden;padding: 0;position: absolute;width: 1px;}#sk-container-id-1 div.sk-estimator {font-family: monospace;background-color: #f0f8ff;border: 1px dotted black;border-radius: 0.25em;box-sizing: border-box;margin-bottom: 0.5em;}#sk-container-id-1 div.sk-estimator:hover {background-color: #d4ebff;}#sk-container-id-1 div.sk-parallel-item::after {content: \"\";width: 100%;border-bottom: 1px solid gray;flex-grow: 1;}#sk-container-id-1 div.sk-label:hover label.sk-toggleable__label {background-color: #d4ebff;}#sk-container-id-1 div.sk-serial::before {content: \"\";position: absolute;border-left: 1px solid gray;box-sizing: border-box;top: 0;bottom: 0;left: 50%;z-index: 0;}#sk-container-id-1 div.sk-serial {display: flex;flex-direction: column;align-items: center;background-color: white;padding-right: 0.2em;padding-left: 0.2em;position: relative;}#sk-container-id-1 div.sk-item {position: relative;z-index: 1;}#sk-container-id-1 div.sk-parallel {display: flex;align-items: stretch;justify-content: center;background-color: white;position: relative;}#sk-container-id-1 div.sk-item::before, #sk-container-id-1 div.sk-parallel-item::before {content: \"\";position: absolute;border-left: 1px solid gray;box-sizing: border-box;top: 0;bottom: 0;left: 50%;z-index: -1;}#sk-container-id-1 div.sk-parallel-item {display: flex;flex-direction: column;z-index: 1;position: relative;background-color: white;}#sk-container-id-1 div.sk-parallel-item:first-child::after {align-self: flex-end;width: 50%;}#sk-container-id-1 div.sk-parallel-item:last-child::after {align-self: flex-start;width: 50%;}#sk-container-id-1 div.sk-parallel-item:only-child::after {width: 0;}#sk-container-id-1 div.sk-dashed-wrapped {border: 1px dashed gray;margin: 0 0.4em 0.5em 0.4em;box-sizing: border-box;padding-bottom: 0.4em;background-color: white;}#sk-container-id-1 div.sk-label label {font-family: monospace;font-weight: bold;display: inline-block;line-height: 1.2em;}#sk-container-id-1 div.sk-label-container {text-align: center;}#sk-container-id-1 div.sk-container {/* jupyter's `normalize.less` sets `[hidden] { display: none; }` but bootstrap.min.css set `[hidden] { display: none !important; }` so we also need the `!important` here to be able to override the default hidden behavior on the sphinx rendered scikit-learn.org. See: https://github.com/scikit-learn/scikit-learn/issues/21755 */display: inline-block !important;position: relative;}#sk-container-id-1 div.sk-text-repr-fallback {display: none;}</style><div id=\"sk-container-id-1\" class=\"sk-top-container\"><div class=\"sk-text-repr-fallback\"><pre>RandomForestClassifier(min_samples_split=100, random_state=1)</pre><b>In a Jupyter environment, please rerun this cell to show the HTML representation or trust the notebook. <br />On GitHub, the HTML representation is unable to render, please try loading this page with nbviewer.org.</b></div><div class=\"sk-container\" hidden><div class=\"sk-item\"><div class=\"sk-estimator sk-toggleable\"><input class=\"sk-toggleable__control sk-hidden--visually\" id=\"sk-estimator-id-1\" type=\"checkbox\" checked><label for=\"sk-estimator-id-1\" class=\"sk-toggleable__label sk-toggleable__label-arrow\">RandomForestClassifier</label><div class=\"sk-toggleable__content\"><pre>RandomForestClassifier(min_samples_split=100, random_state=1)</pre></div></div></div></div></div>"
      ],
      "text/plain": [
       "RandomForestClassifier(min_samples_split=100, random_state=1)"
      ]
     },
     "execution_count": 40,
     "metadata": {},
     "output_type": "execute_result"
    }
   ],
   "source": [
    "from sklearn.ensemble import RandomForestClassifier\n",
    "\n",
    "#n_estimators=100: This sets the number of trees in the forest to 100.\n",
    "#min_samples_split=100: This specifies the minimum number of samples required \n",
    "#to split an internal node. A higher value can prevent the model from overfitting.\n",
    "model = RandomForestClassifier(n_estimators=100, min_samples_split=100, random_state=1)\n",
    "\n",
    "train = sp500.iloc[:-100]  #selects all rows of the sp500 DataFrame except the last 100 rows for the training set.\n",
    "test = sp500.iloc[-100:]   #selects all rows of the sp500 DataFrame except the last 100 rows for the training set.\n",
    "\n",
    "predictors = [\"Close\", \"Volume\", \"Open\", \"High\", \"Low\"]\n",
    "model.fit(train[predictors], train[\"Target\"])"
   ]
  },
  {
   "cell_type": "code",
   "execution_count": 55,
   "id": "168ff437-95d9-4eac-ad45-4b9d6abbdf5f",
   "metadata": {},
   "outputs": [],
   "source": [
    "from sklearn.metrics import precision_score\n",
    "\n",
    "preds = model.predict(test[predictors]) #test[predictors]:This selects the columns specified in the predictors list from the test DataFrame.\n",
    "                                        "
   ]
  },
  {
   "cell_type": "code",
   "execution_count": 83,
   "id": "6c69d319-d7ee-4946-b952-3780cfeed6e9",
   "metadata": {},
   "outputs": [
    {
     "data": {
      "text/plain": [
       "Date\n",
       "2024-01-17 00:00:00-05:00    0\n",
       "2024-01-18 00:00:00-05:00    0\n",
       "2024-01-19 00:00:00-05:00    0\n",
       "2024-01-22 00:00:00-05:00    0\n",
       "2024-01-23 00:00:00-05:00    0\n",
       "                            ..\n",
       "2024-06-03 00:00:00-04:00    0\n",
       "2024-06-04 00:00:00-04:00    0\n",
       "2024-06-05 00:00:00-04:00    0\n",
       "2024-06-06 00:00:00-04:00    0\n",
       "2024-06-07 00:00:00-04:00    0\n",
       "Length: 100, dtype: int32"
      ]
     },
     "execution_count": 83,
     "metadata": {},
     "output_type": "execute_result"
    }
   ],
   "source": [
    "preds"
   ]
  },
  {
   "cell_type": "code",
   "execution_count": 56,
   "id": "0771c089-c729-43dc-adb0-d8d09a37f878",
   "metadata": {},
   "outputs": [],
   "source": [
    "import pandas as pd \n",
    "preds = pd.Series(preds, index=test.index)  #converts the array of predictions into a pandas Series.\n",
    "                                            #index=test.index:This sets the index of the new Series to match the index of the test DataFrame.\n",
    "                                            #test.index provides the index labels from the test DataFrame."
   ]
  },
  {
   "cell_type": "code",
   "execution_count": 59,
   "id": "fa82388b-fe17-48ec-a46f-f82f93248188",
   "metadata": {},
   "outputs": [
    {
     "data": {
      "text/plain": [
       "Date\n",
       "2024-01-17 00:00:00-05:00    0\n",
       "2024-01-18 00:00:00-05:00    0\n",
       "2024-01-19 00:00:00-05:00    0\n",
       "2024-01-22 00:00:00-05:00    0\n",
       "2024-01-23 00:00:00-05:00    0\n",
       "                            ..\n",
       "2024-06-03 00:00:00-04:00    0\n",
       "2024-06-04 00:00:00-04:00    0\n",
       "2024-06-05 00:00:00-04:00    0\n",
       "2024-06-06 00:00:00-04:00    0\n",
       "2024-06-07 00:00:00-04:00    0\n",
       "Length: 100, dtype: int32"
      ]
     },
     "execution_count": 59,
     "metadata": {},
     "output_type": "execute_result"
    }
   ],
   "source": [
    "preds"
   ]
  },
  {
   "cell_type": "code",
   "execution_count": 67,
   "id": "717605a4-ce1f-423a-83bc-55e623b885db",
   "metadata": {},
   "outputs": [
    {
     "name": "stdout",
     "output_type": "stream",
     "text": [
      "Accuracy: 0.44\n"
     ]
    }
   ],
   "source": [
    "from sklearn.metrics import accuracy_score, precision_score\n",
    "\n",
    "# Evaluate the model's performance\n",
    "accuracy = accuracy_score(test[\"Target\"], preds)\n",
    "print(f\"Accuracy: {accuracy:.2f}\")\n"
   ]
  },
  {
   "cell_type": "code",
   "execution_count": null,
   "id": "b0ce0f4c-a816-4479-873d-55f65d3a4415",
   "metadata": {},
   "outputs": [],
   "source": [
    "#Accuracy\n",
    "#Definition: Accuracy is the proportion of correctly predicted instances (both true positives and true negatives) out of the total number of instances.\n",
    "#Formula: \n",
    "#Accuracy\n",
    "#  = Number of Correct Predictions/ Total Number of Predictions\n",
    "#Interpretation: Accuracy provides an overall measure of how often the model makes correct predictions across all classes."
   ]
  },
  {
   "cell_type": "code",
   "execution_count": 68,
   "id": "9cda4b2d-7ef8-4202-a786-af3911386f01",
   "metadata": {},
   "outputs": [
    {
     "name": "stdout",
     "output_type": "stream",
     "text": [
      "0    100\n",
      "Name: count, dtype: int64\n"
     ]
    }
   ],
   "source": [
    "# Print the distribution of predictions\n",
    "print(preds.value_counts())"
   ]
  },
  {
   "cell_type": "code",
   "execution_count": 75,
   "id": "3fe416c8-17d5-4d85-b92f-eb5f0106e385",
   "metadata": {},
   "outputs": [],
   "source": [
    "precision = precision_score(test[\"Target\"], preds, zero_division=0)"
   ]
  },
  {
   "cell_type": "code",
   "execution_count": 76,
   "id": "cd8e87ba-477d-4e96-91f3-a6562b95d073",
   "metadata": {},
   "outputs": [
    {
     "data": {
      "text/plain": [
       "0.0"
      ]
     },
     "execution_count": 76,
     "metadata": {},
     "output_type": "execute_result"
    }
   ],
   "source": [
    "precision"
   ]
  },
  {
   "cell_type": "code",
   "execution_count": 77,
   "id": "e4e39c8c-d690-42b2-92ad-8a95558d9f7c",
   "metadata": {},
   "outputs": [
    {
     "name": "stdout",
     "output_type": "stream",
     "text": [
      "Precision: 0.00\n"
     ]
    }
   ],
   "source": [
    "# Calculate and print the precision score\n",
    "precision = precision_score(test[\"Target\"], preds, zero_division=0)\n",
    "print(f\"Precision: {precision:.2f}\")"
   ]
  },
  {
   "cell_type": "code",
   "execution_count": 80,
   "id": "9249ca16-ed52-4dd2-8e81-e7bfe80cb712",
   "metadata": {},
   "outputs": [],
   "source": [
    "#Precision\n",
    "#Definition: Precision is the proportion of true positive predictions out of the total predicted positives. It focuses on the accuracy of positive predictions.\n",
    "#Formula: Precision = True Positives/ (True Positives + False Positives)\n",
    "#Interpretation: Precision tells us how precise or accurate the positive predictions made by the model are. It measures the model's ability to avoid false positives."
   ]
  },
  {
   "cell_type": "code",
   "execution_count": 81,
   "id": "0a491336-8546-47bb-b9b7-feae75d2a16f",
   "metadata": {},
   "outputs": [],
   "source": [
    "combined = pd.concat([test[\"Target\"], preds], axis=1)"
   ]
  },
  {
   "cell_type": "code",
   "execution_count": 82,
   "id": "65b2ac8c-ad40-41f9-9715-937300b31a44",
   "metadata": {},
   "outputs": [
    {
     "data": {
      "text/plain": [
       "<Axes: xlabel='Date'>"
      ]
     },
     "execution_count": 82,
     "metadata": {},
     "output_type": "execute_result"
    },
    {
     "data": {
      "image/png": "[encoded data removed]",
      "text/plain": [
       "<Figure size 640x480 with 1 Axes>"
      ]
     },
     "metadata": {},
     "output_type": "display_data"
    }
   ],
   "source": [
    "combined.plot()"
   ]
  },
  {
   "cell_type": "code",
   "execution_count": 84,
   "id": "1d74bad7-b79c-46e3-938d-2fc733c941e4",
   "metadata": {},
   "outputs": [],
   "source": [
    "# The code combined = pd.concat([test[\"Target\"], preds], axis=1) concatenates two pandas Series (test[\"Target\"] and preds) into a single DataFrame along the columns (axis=1). Here’s a breakdown of what each part of the code does:\n",
    "\n",
    "# Breakdown of the Code\n",
    "\n",
    "# pd.concat():\n",
    "# This function concatenates pandas objects along a particular axis.\n",
    "# It can concatenate Series, DataFrame, or a list of these objects.\n",
    "\n",
    "# [test[\"Target\"], preds]:\n",
    "# This is a list containing the two pandas Series that you want to concatenate.\n",
    "# test[\"Target\"] represents the actual target values from the test set.\n",
    "# preds represents the predicted values obtained from the model.\n",
    "# axis=1:\n",
    "\n",
    "# This parameter specifies the axis along which the concatenation should be performed.\n",
    "# axis=1 means the concatenation is done along the columns, meaning that the two Series will be aligned side by side in the resulting DataFrame.\n",
    "# Assigning to combined:\n",
    "\n",
    "# The concatenated DataFrame is assigned to the variable combined."
   ]
  },
  {
   "cell_type": "code",
   "execution_count": 85,
   "id": "ed7d5eb7-0c4b-4b8c-82b9-c9768d0ecd38",
   "metadata": {},
   "outputs": [],
   "source": [
    "def predict(train, test, predictors, model):\n",
    "    model.fit(train[predictors], train[\"Target\"]) #This line fits the machine learning model (model) to the training data (train) using the specified predictors (predictors) and the target variable (Target).\n",
    "    preds = model.predict(test[predictors]) #This line uses the trained model (model) to make predictions on the test data (test) using the specified predictors (predictors).\n",
    "    preds = pd.Series(preds, index=test.index, name=\"Predictions\") #This line converts the array of predictions (preds) into a pandas Series.\n",
    "    combined = pd.concat([test[\"Target\"], preds], axis=1) #This line concatenates the actual target values (test[\"Target\"]) and the predicted values (preds) into a single DataFrame (combined) along the columns (axis=1).\n",
    "    return combined"
   ]
  },
  {
   "cell_type": "code",
   "execution_count": 91,
   "id": "a35dee3d-e7aa-4517-a7b2-beed08853f90",
   "metadata": {},
   "outputs": [],
   "source": [
    "# start means we will take 2500 days of data (10 years of working days)\n",
    "#step: The number of data points by which the training window moves forward in each iteration. Here, step=250 likely means that after each backtest iteration, the training window shifts forward by 250 data points (approximately one year of working days).\n",
    "#we are training on the 10 years data and predict values for the 11 year \n",
    "def backtest(data, model, predictors, start=2500, step=250):\n",
    "    all_predictions = []\n",
    "\n",
    "    for i in range(start, data.shape[0], step):\n",
    "        train = data.iloc[0:i].copy()\n",
    "        test = data.iloc[i:(i+step)].copy()\n",
    "        predictions = predict(train, test, predictors, model)\n",
    "        all_predictions.append(predictions)\n",
    "    return pd.concat(all_predictions)"
   ]
  },
  {
   "cell_type": "code",
   "execution_count": 92,
   "id": "6a02ec63-9884-4b8c-aae2-11f5c1858e03",
   "metadata": {},
   "outputs": [],
   "source": [
    "predictions = backtest(sp500, model, predictors)"
   ]
  },
  {
   "cell_type": "code",
   "execution_count": 95,
   "id": "4e892d43-79a6-494f-933f-e0d50c07dcd2",
   "metadata": {},
   "outputs": [
    {
     "data": {
      "text/plain": [
       "Predictions\n",
       "0    3579\n",
       "1    2596\n",
       "Name: count, dtype: int64"
      ]
     },
     "execution_count": 95,
     "metadata": {},
     "output_type": "execute_result"
    }
   ],
   "source": [
    "predictions[\"Predictions\"].value_counts() # how many days we predicted the market will go up or down "
   ]
  },
  {
   "cell_type": "code",
   "execution_count": 96,
   "id": "dedeb6ce-40b9-442c-bed6-ce71fa933cb1",
   "metadata": {},
   "outputs": [],
   "source": [
    "# Predictions\n",
    "# 0    3579   # means the market will go down 3579 days\n",
    "# 1    2596   # means the market will o up for 2596 days\n",
    "# Name: count, dtype: int64"
   ]
  },
  {
   "cell_type": "code",
   "execution_count": 98,
   "id": "349c5393-9e3d-45ab-8446-1aac0776e66f",
   "metadata": {},
   "outputs": [
    {
     "data": {
      "text/plain": [
       "0.5288906009244992"
      ]
     },
     "execution_count": 98,
     "metadata": {},
     "output_type": "execute_result"
    }
   ],
   "source": [
    "precision_score(predictions[\"Target\"], predictions[\"Predictions\"])"
   ]
  },
  {
   "cell_type": "code",
   "execution_count": 99,
   "id": "fc3342a7-7ffb-484b-9a20-918f467c2193",
   "metadata": {},
   "outputs": [],
   "source": [
    "#across 3579+2596 training days we were about 0.5288906009244992 (50%) accurate\n",
    "#if we say that the market will go up, it will go actually up 50% of the time "
   ]
  },
  {
   "cell_type": "code",
   "execution_count": 100,
   "id": "d762748a-340e-4e47-b55b-eb89ccd76f25",
   "metadata": {},
   "outputs": [
    {
     "data": {
      "text/plain": [
       "Target\n",
       "1    0.534737\n",
       "0    0.465263\n",
       "Name: count, dtype: float64"
      ]
     },
     "execution_count": 100,
     "metadata": {},
     "output_type": "execute_result"
    }
   ],
   "source": [
    "predictions[\"Target\"].value_counts() / predictions.shape[0]"
   ]
  },
  {
   "cell_type": "code",
   "execution_count": 102,
   "id": "b0fbb3ee-9054-4971-821e-e0dc2e8348aa",
   "metadata": {},
   "outputs": [],
   "source": [
    "# Target\n",
    "# 1    0.534737\n",
    "# 0    0.465263\n",
    "# Name: count, dtype: float64\n",
    "\n",
    "# sp500 at the days we were looking at actually went up 53% of days"
   ]
  },
  {
   "cell_type": "code",
   "execution_count": 103,
   "id": "2928f9c7-14a2-459a-abdc-c705a6aac032",
   "metadata": {},
   "outputs": [],
   "source": [
    "horizons = [2,5,60,250,1000] #calculate the mean close price at the last 2,5, 60... trading days\n",
    "new_predictors = []\n",
    "\n",
    "for horizon in horizons:\n",
    "    rolling_averages = sp500.rolling(horizon).mean()\n",
    "\n",
    "ratio_column = f\"Close_Ratio_{horizon}\"\n",
    "sp500[ratio_column] = sp500[\"Close\"] / rolling_averages[\"Close\"]\n",
    "\n",
    "trend_column = f\"Trend_{horizon}\"\n",
    "sp500[trend_column] = sp500.shift(1).rolling(horizon).sum() [\"Target\"]\n",
    "\n",
    "new_predictors += [ratio_column, trend_column]"
   ]
  },
  {
   "cell_type": "code",
   "execution_count": 105,
   "id": "cbdb8812-fb18-4ca5-8e0c-12453e9c90cb",
   "metadata": {},
   "outputs": [],
   "source": [
    "sp500 = sp500.dropna() # drops rows, where there are NA values "
   ]
  },
  {
   "cell_type": "code",
   "execution_count": 106,
   "id": "b45f25a0-7602-48e6-8275-7517c6c10fbd",
   "metadata": {},
   "outputs": [
    {
     "data": {
      "text/html": [
       "<div>\n",
       "<style scoped>\n",
       "    .dataframe tbody tr th:only-of-type {\n",
       "        vertical-align: middle;\n",
       "    }\n",
       "\n",
       "    .dataframe tbody tr th {\n",
       "        vertical-align: top;\n",
       "    }\n",
       "\n",
       "    .dataframe thead th {\n",
       "        text-align: right;\n",
       "    }\n",
       "</style>\n",
       "<table border=\"1\" class=\"dataframe\">\n",
       "  <thead>\n",
       "    <tr style=\"text-align: right;\">\n",
       "      <th></th>\n",
       "      <th>Open</th>\n",
       "      <th>High</th>\n",
       "      <th>Low</th>\n",
       "      <th>Close</th>\n",
       "      <th>Volume</th>\n",
       "      <th>Tomorrow</th>\n",
       "      <th>Target</th>\n",
       "      <th>Close_Ratio_1000</th>\n",
       "      <th>Trend_1000</th>\n",
       "    </tr>\n",
       "    <tr>\n",
       "      <th>Date</th>\n",
       "      <th></th>\n",
       "      <th></th>\n",
       "      <th></th>\n",
       "      <th></th>\n",
       "      <th></th>\n",
       "      <th></th>\n",
       "      <th></th>\n",
       "      <th></th>\n",
       "      <th></th>\n",
       "    </tr>\n",
       "  </thead>\n",
       "  <tbody>\n",
       "    <tr>\n",
       "      <th>1993-12-14 00:00:00-05:00</th>\n",
       "      <td>465.730011</td>\n",
       "      <td>466.119995</td>\n",
       "      <td>462.459991</td>\n",
       "      <td>463.059998</td>\n",
       "      <td>275050000</td>\n",
       "      <td>461.839996</td>\n",
       "      <td>0</td>\n",
       "      <td>1.176082</td>\n",
       "      <td>512.0</td>\n",
       "    </tr>\n",
       "    <tr>\n",
       "      <th>1993-12-15 00:00:00-05:00</th>\n",
       "      <td>463.059998</td>\n",
       "      <td>463.690002</td>\n",
       "      <td>461.839996</td>\n",
       "      <td>461.839996</td>\n",
       "      <td>331770000</td>\n",
       "      <td>463.339996</td>\n",
       "      <td>1</td>\n",
       "      <td>1.172676</td>\n",
       "      <td>512.0</td>\n",
       "    </tr>\n",
       "    <tr>\n",
       "      <th>1993-12-16 00:00:00-05:00</th>\n",
       "      <td>461.859985</td>\n",
       "      <td>463.980011</td>\n",
       "      <td>461.859985</td>\n",
       "      <td>463.339996</td>\n",
       "      <td>284620000</td>\n",
       "      <td>466.380005</td>\n",
       "      <td>1</td>\n",
       "      <td>1.176163</td>\n",
       "      <td>513.0</td>\n",
       "    </tr>\n",
       "    <tr>\n",
       "      <th>1993-12-17 00:00:00-05:00</th>\n",
       "      <td>463.339996</td>\n",
       "      <td>466.380005</td>\n",
       "      <td>463.339996</td>\n",
       "      <td>466.380005</td>\n",
       "      <td>363750000</td>\n",
       "      <td>465.850006</td>\n",
       "      <td>0</td>\n",
       "      <td>1.183537</td>\n",
       "      <td>514.0</td>\n",
       "    </tr>\n",
       "    <tr>\n",
       "      <th>1993-12-20 00:00:00-05:00</th>\n",
       "      <td>466.380005</td>\n",
       "      <td>466.899994</td>\n",
       "      <td>465.529999</td>\n",
       "      <td>465.850006</td>\n",
       "      <td>255900000</td>\n",
       "      <td>465.299988</td>\n",
       "      <td>0</td>\n",
       "      <td>1.181856</td>\n",
       "      <td>513.0</td>\n",
       "    </tr>\n",
       "    <tr>\n",
       "      <th>...</th>\n",
       "      <td>...</td>\n",
       "      <td>...</td>\n",
       "      <td>...</td>\n",
       "      <td>...</td>\n",
       "      <td>...</td>\n",
       "      <td>...</td>\n",
       "      <td>...</td>\n",
       "      <td>...</td>\n",
       "      <td>...</td>\n",
       "    </tr>\n",
       "    <tr>\n",
       "      <th>2024-05-31 00:00:00-04:00</th>\n",
       "      <td>5243.209961</td>\n",
       "      <td>5280.330078</td>\n",
       "      <td>5191.680176</td>\n",
       "      <td>5277.509766</td>\n",
       "      <td>5437160000</td>\n",
       "      <td>5283.399902</td>\n",
       "      <td>1</td>\n",
       "      <td>1.259004</td>\n",
       "      <td>530.0</td>\n",
       "    </tr>\n",
       "    <tr>\n",
       "      <th>2024-06-03 00:00:00-04:00</th>\n",
       "      <td>5297.149902</td>\n",
       "      <td>5302.109863</td>\n",
       "      <td>5234.319824</td>\n",
       "      <td>5283.399902</td>\n",
       "      <td>4046920000</td>\n",
       "      <td>5291.339844</td>\n",
       "      <td>1</td>\n",
       "      <td>1.259724</td>\n",
       "      <td>531.0</td>\n",
       "    </tr>\n",
       "    <tr>\n",
       "      <th>2024-06-04 00:00:00-04:00</th>\n",
       "      <td>5278.240234</td>\n",
       "      <td>5298.799805</td>\n",
       "      <td>5257.629883</td>\n",
       "      <td>5291.339844</td>\n",
       "      <td>3707900000</td>\n",
       "      <td>5354.029785</td>\n",
       "      <td>1</td>\n",
       "      <td>1.260941</td>\n",
       "      <td>531.0</td>\n",
       "    </tr>\n",
       "    <tr>\n",
       "      <th>2024-06-05 00:00:00-04:00</th>\n",
       "      <td>5314.479980</td>\n",
       "      <td>5354.160156</td>\n",
       "      <td>5297.640137</td>\n",
       "      <td>5354.029785</td>\n",
       "      <td>3591460000</td>\n",
       "      <td>5352.959961</td>\n",
       "      <td>0</td>\n",
       "      <td>1.275185</td>\n",
       "      <td>531.0</td>\n",
       "    </tr>\n",
       "    <tr>\n",
       "      <th>2024-06-06 00:00:00-04:00</th>\n",
       "      <td>5357.799805</td>\n",
       "      <td>5362.350098</td>\n",
       "      <td>5335.359863</td>\n",
       "      <td>5352.959961</td>\n",
       "      <td>3609990000</td>\n",
       "      <td>5346.990234</td>\n",
       "      <td>0</td>\n",
       "      <td>1.274254</td>\n",
       "      <td>530.0</td>\n",
       "    </tr>\n",
       "  </tbody>\n",
       "</table>\n",
       "<p>7674 rows × 9 columns</p>\n",
       "</div>"
      ],
      "text/plain": [
       "                                  Open         High          Low        Close  \\\n",
       "Date                                                                            \n",
       "1993-12-14 00:00:00-05:00   465.730011   466.119995   462.459991   463.059998   \n",
       "1993-12-15 00:00:00-05:00   463.059998   463.690002   461.839996   461.839996   \n",
       "1993-12-16 00:00:00-05:00   461.859985   463.980011   461.859985   463.339996   \n",
       "1993-12-17 00:00:00-05:00   463.339996   466.380005   463.339996   466.380005   \n",
       "1993-12-20 00:00:00-05:00   466.380005   466.899994   465.529999   465.850006   \n",
       "...                                ...          ...          ...          ...   \n",
       "2024-05-31 00:00:00-04:00  5243.209961  5280.330078  5191.680176  5277.509766   \n",
       "2024-06-03 00:00:00-04:00  5297.149902  5302.109863  5234.319824  5283.399902   \n",
       "2024-06-04 00:00:00-04:00  5278.240234  5298.799805  5257.629883  5291.339844   \n",
       "2024-06-05 00:00:00-04:00  5314.479980  5354.160156  5297.640137  5354.029785   \n",
       "2024-06-06 00:00:00-04:00  5357.799805  5362.350098  5335.359863  5352.959961   \n",
       "\n",
       "                               Volume     Tomorrow  Target  Close_Ratio_1000  \\\n",
       "Date                                                                           \n",
       "1993-12-14 00:00:00-05:00   275050000   461.839996       0          1.176082   \n",
       "1993-12-15 00:00:00-05:00   331770000   463.339996       1          1.172676   \n",
       "1993-12-16 00:00:00-05:00   284620000   466.380005       1          1.176163   \n",
       "1993-12-17 00:00:00-05:00   363750000   465.850006       0          1.183537   \n",
       "1993-12-20 00:00:00-05:00   255900000   465.299988       0          1.181856   \n",
       "...                               ...          ...     ...               ...   \n",
       "2024-05-31 00:00:00-04:00  5437160000  5283.399902       1          1.259004   \n",
       "2024-06-03 00:00:00-04:00  4046920000  5291.339844       1          1.259724   \n",
       "2024-06-04 00:00:00-04:00  3707900000  5354.029785       1          1.260941   \n",
       "2024-06-05 00:00:00-04:00  3591460000  5352.959961       0          1.275185   \n",
       "2024-06-06 00:00:00-04:00  3609990000  5346.990234       0          1.274254   \n",
       "\n",
       "                           Trend_1000  \n",
       "Date                                   \n",
       "1993-12-14 00:00:00-05:00       512.0  \n",
       "1993-12-15 00:00:00-05:00       512.0  \n",
       "1993-12-16 00:00:00-05:00       513.0  \n",
       "1993-12-17 00:00:00-05:00       514.0  \n",
       "1993-12-20 00:00:00-05:00       513.0  \n",
       "...                               ...  \n",
       "2024-05-31 00:00:00-04:00       530.0  \n",
       "2024-06-03 00:00:00-04:00       531.0  \n",
       "2024-06-04 00:00:00-04:00       531.0  \n",
       "2024-06-05 00:00:00-04:00       531.0  \n",
       "2024-06-06 00:00:00-04:00       530.0  \n",
       "\n",
       "[7674 rows x 9 columns]"
      ]
     },
     "execution_count": 106,
     "metadata": {},
     "output_type": "execute_result"
    }
   ],
   "source": [
    "sp500"
   ]
  },
  {
   "cell_type": "code",
   "execution_count": 108,
   "id": "51c21527-f519-4af4-b07a-83d3b6856b34",
   "metadata": {},
   "outputs": [],
   "source": [
    "model = RandomForestClassifier(n_estimators=200, min_samples_split=50, random_state=1)"
   ]
  },
  {
   "cell_type": "code",
   "execution_count": 109,
   "id": "22e23410-a61d-424f-b54b-e9ac9bb875b0",
   "metadata": {},
   "outputs": [],
   "source": [
    "def predict(train, test, predictors, model):\n",
    "    model.fit(train[predictors], train[\"Target\"]) #This line fits the machine learning model (model) to the training data (train) using the specified predictors (predictors) and the target variable (Target).\n",
    "    preds = model.predict_proba(test[predictors]) [:,1] #Probability, that a row will be 0 or 1, probability that the start price will go up tomorrow and a probability that the start price will go down tomorrow \n",
    "    preds[preds >= .6] = 1 # if the probability will 60 or more % that the price will go up, only than it will show 1\n",
    "    preds[preds < .6] = 0\n",
    "    preds = pd.Series(preds, index=test.index, name=\"Predictions\") #This line converts the array of predictions (preds) into a pandas Series.\n",
    "    combined = pd.concat([test[\"Target\"], preds], axis=1) #This line concatenates the actual target values (test[\"Target\"]) and the predicted values (preds) into a single DataFrame (combined) along the columns (axis=1).\n",
    "    return combined"
   ]
  },
  {
   "cell_type": "code",
   "execution_count": 110,
   "id": "ada3dcc5-022a-4d82-8a95-e2159505022c",
   "metadata": {},
   "outputs": [],
   "source": [
    "predictions = backtest(sp500, model, new_predictors)"
   ]
  },
  {
   "cell_type": "code",
   "execution_count": 111,
   "id": "998d9e81-5c85-4900-92fb-62c6b67fe749",
   "metadata": {},
   "outputs": [
    {
     "data": {
      "text/plain": [
       "Predictions\n",
       "0.0    3745\n",
       "1.0    1429\n",
       "Name: count, dtype: int64"
      ]
     },
     "execution_count": 111,
     "metadata": {},
     "output_type": "execute_result"
    }
   ],
   "source": [
    "predictions[\"Predictions\"].value_counts()"
   ]
  },
  {
   "cell_type": "code",
   "execution_count": 112,
   "id": "14e81606-db2c-4875-bd23-a03b651c883c",
   "metadata": {},
   "outputs": [],
   "source": [
    "# Predictions\n",
    "# 0.0    3745 days price will go down\n",
    "# 1.0    1429 days price will go up \n",
    "# Name: count, dtype: int64"
   ]
  },
  {
   "cell_type": "code",
   "execution_count": 114,
   "id": "4c447ca2-5259-4083-8fa6-201552bd5608",
   "metadata": {},
   "outputs": [
    {
     "data": {
      "text/plain": [
       "0.5115465360391882"
      ]
     },
     "execution_count": 114,
     "metadata": {},
     "output_type": "execute_result"
    }
   ],
   "source": [
    "precision_score(predictions[\"Target\"], predictions[\"Predictions\"])"
   ]
  },
  {
   "cell_type": "code",
   "execution_count": 115,
   "id": "2b07181e-c9d3-48d2-855f-64514d124631",
   "metadata": {},
   "outputs": [],
   "source": [
    "# when the model predicts the price will go up - 51% it will actually go up "
   ]
  },
  {
   "cell_type": "code",
   "execution_count": null,
   "id": "a32b03d0-7ae4-4d0b-a5da-b2b9d5dc96dd",
   "metadata": {},
   "outputs": [],
   "source": []
  }
 ],
 "metadata": {
  "kernelspec": {
   "display_name": "Python 3 (ipykernel)",
   "language": "python",
   "name": "python3"
  },
  "language_info": {
   "codemirror_mode": {
    "name": "ipython",
    "version": 3
   },
   "file_extension": ".py",
   "mimetype": "text/x-python",
   "name": "python",
   "nbconvert_exporter": "python",
   "pygments_lexer": "ipython3",
   "version": "3.11.7"
  }
 },
 "nbformat": 4,
 "nbformat_minor": 5
}
